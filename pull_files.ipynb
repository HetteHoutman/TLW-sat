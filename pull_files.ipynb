{
 "cells": [
  {
   "cell_type": "code",
   "execution_count": 1,
   "metadata": {
    "collapsed": true,
    "ExecuteTime": {
     "end_time": "2023-07-06T10:15:23.563873700Z",
     "start_time": "2023-07-06T10:15:23.236566Z"
    }
   },
   "outputs": [],
   "source": [
    "import eumdac"
   ]
  },
  {
   "cell_type": "code",
   "execution_count": 2,
   "outputs": [
    {
     "name": "stdout",
     "output_type": "stream",
     "text": [
      "This token '22d31e58-c5e8-3dc6-8293-51877217b210' expires 2023-07-06 12:15:23.580847\n"
     ]
    }
   ],
   "source": [
    "# Insert your personal key and secret into the single quotes\n",
    "consumer_key = '9Kplg3cMsnqL3Uzo_aZrhUqwOu8a'\n",
    "consumer_secret = 'Hf9qKiMD3UWKOoMV2_uku0fdHv8a'\n",
    "\n",
    "credentials = (consumer_key, consumer_secret)\n",
    "\n",
    "token = eumdac.AccessToken(credentials)\n",
    "\n",
    "print(f\"This token '{token}' expires {token.expiration}\")"
   ],
   "metadata": {
    "collapsed": false,
    "ExecuteTime": {
     "end_time": "2023-07-06T10:15:24.307987200Z",
     "start_time": "2023-07-06T10:15:23.566576700Z"
    }
   }
  },
  {
   "cell_type": "code",
   "execution_count": 3,
   "outputs": [],
   "source": [
    "datastore = eumdac.DataStore(token)"
   ],
   "metadata": {
    "collapsed": false,
    "ExecuteTime": {
     "end_time": "2023-07-06T10:15:24.323308300Z",
     "start_time": "2023-07-06T10:15:24.311236900Z"
    }
   }
  },
  {
   "cell_type": "code",
   "execution_count": 4,
   "outputs": [
    {
     "name": "stdout",
     "output_type": "stream",
     "text": [
      "EO:EUM:DAT:0082 - MVIRI Level 1.5 Climate Data Record Release 1 - MFG - 63 degree\n",
      "EO:EUM:DAT:MSG:MSG15-RSS - Rapid Scan High Rate SEVIRI Level 1.5 Image Data - MSG\n",
      "EO:EUM:DAT:METOP:ASCSZR1B - ASCAT Level 1 Sigma0 resampled at 12.5 km Swath Grid - Metop - Global\n",
      "EO:EUM:DAT:METOP:ASCSZF1B - ASCAT Level 1 Sigma0 Full Resolution - Metop - Global\n",
      "EO:EUM:DAT:0241 - Climate-quality Advanced Microwave Radiometer Level 2 Products (baseline version F06) - Sentinel-6 - Reprocessed\n",
      "EO:EUM:DAT:0237 - Poseidon-4 Altimetry Level 1B Low Resolution (baseline version F06) - Sentinel-6 - Reprocessed\n",
      "EO:EUM:DAT:MULT:HIRSL1 - HIRS Level 1B - Metop - Global\n",
      "EO:EUM:DAT:MSG:CLM-IODC - Cloud Mask - MSG - Indian Ocean\n",
      "EO:EUM:DAT:0584 - SRAL Level 1B (version BC004) - Sentinel-3 - Reprocessed\n",
      "EO:EUM:DAT:0412 - SLSTR Level 2 Sea Surface Temperature (SST) - Sentinel-3\n",
      "EO:EUM:DAT:0081 - MVIRI Level 1.5 Climate Data Record Release 1 - MFG - 57 degree\n",
      "EO:EUM:CM:METOP:ASCSZFR02 - ASCAT Level 1 SZF Climate Data Record Release 2 - Metop\n",
      "EO:EUM:DAT:METOP:ASCSZO1B - ASCAT Level 1 Sigma0 resampled at 25 km Swath Grid - Metop - Global\n",
      "EO:EUM:DAT:METOP:GOMEL1 - GOME-2 Level 1B - Metop - Global\n",
      "EO:EUM:DAT:0239 - Poseidon-4 Altimetry Level 2 Low Resolution (baseline version F06) - Sentinel-6 - Reprocessed\n",
      "EO:EUM:DAT:0405 - Atmospheric Motion Vectors Climate Data Record Release 2 - MFG and MSG - 0 degree\n",
      "EO:EUM:DAT:0301 - GSA Level 2 Climate Data Record Release 2 - MFG - 57 degree\n",
      "EO:EUM:DAT:0406 - SRAL Level 1B - Sentinel-3\n",
      "EO:EUM:DAT:0410 - OLCI Level 1B Reduced Resolution - Sentinel-3\n",
      "EO:EUM:DAT:0413 - SRAL Level 1A Unpacked L0 Complex echos - Sentinel-3\n",
      "EO:EUM:DAT:0415 - SRAL Level 2 Altimetry Global - Sentinel-3\n",
      "EO:EUM:DAT:0416 - SLSTR Level 2 Aerosol Optical Depth - Sentinel-3\n",
      "EO:EUM:DAT:MSG:RSS-CLM - Rapid Scan Cloud Mask - MSG\n",
      "EO:EUM:DAT:METOP:OSI-150-A - ASCAT L2 25 km Winds Data Record Release 1 - Metop\n",
      "EO:EUM:DAT:METOP:OSI-150-B - ASCAT L2 12.5 km Winds Data Record Release 1 - Metop\n",
      "EO:EUM:CM:METOP:ASCSZOR02 - ASCAT Level 1 SZO Climate Data Record Release 2 - Metop\n",
      "EO:EUM:CM:METOP:ASCSZRR02 - ASCAT Level 1 SZR Climate Data Record Release 2 - Metop\n",
      "EO:EUM:DAT:0236 - Poseidon-4 Altimetry Level 1A High Resolution (baseline version F06) - Sentinel-6 - Reprocessed\n",
      "EO:EUM:DAT:METOP:GLB-SST-NC - Global L3C AVHRR Sea Surface Temperature (GHRSST) - Metop\n",
      "EO:EUM:DAT:MSG:CLM - Cloud Mask - MSG - 0 degree\n",
      "EO:EUM:DAT:0558 - AVHRR GAC Atmospheric Motion Vectors Climate Data Record Release 2 - Multimission - Polar\n",
      "EO:EUM:DAT:0302 - GSA Level 2 Climate Data Record Release 2 - MFG - 63 degree\n",
      "EO:EUM:DAT:0615 - SLSTR Level 1B Radiances and Brightness Temperatures (version BC004) - Sentinel-3 - Reprocessed\n",
      "EO:EUM:DAT:0408 - OLCI Level 2 Ocean Colour Reduced Resolution - Sentinel-3\n",
      "EO:EUM:DAT:0409 - OLCI Level 1B Full Resolution - Sentinel-3\n",
      "EO:EUM:DAT:METOP:IASSND02 - IASI Combined Sounding Products - Metop\n",
      "EO:EUM:DAT:MSG:HRSEVIRI - High Rate SEVIRI Level 1.5 Image Data - MSG - 0 degree\n",
      "EO:EUM:DAT:METOP:IASIL1C-ALL - IASI Level 1C - All Spectral Samples - Metop - Global\n",
      "EO:EUM:DAT:MSG:HRSEVIRI-IODC - High Rate SEVIRI Level 1.5 Image Data - MSG - Indian Ocean\n",
      "EO:EUM:DAT:METOP:MHSL1 - MHS Level 1B - Metop - Global\n",
      "EO:EUM:DAT:0238 - Poseidon-4 Altimetry Level 1B High Resolution (baseline version F06) - Sentinel-6 - Reprocessed\n",
      "EO:EUM:DAT:0576 - IASI All Sky Temperature and Humidity Profiles - Climate Data Record Release 1.1 - Metop-A and -B\n",
      "EO:EUM:DAT:0374 - Commercial Radio Occultation Level 1B data - Lemur-2\n",
      "EO:EUM:DAT:0300 - GSA Level 2 Climate Data Record Release 2 - MFG and MSG - 0 degree\n",
      "EO:EUM:DAT:0556 - OLCI Level 2 Ocean Colour Full Resolution (version BC003) - Sentinel-3 - Reprocessed\n",
      "EO:EUM:DAT:0581 - SLSTR Level 1B Radiances and Brightness Temperatures (version BC003) - Sentinel-3 - Reprocessed\n",
      "EO:EUM:DAT:0583 - SRAL Level 1A Unpacked L0 Complex Echoes (version BC004) - Sentinel-3 - Reprocessed\n",
      "EO:EUM:DAT:0585 - SRAL Level 1B Stack Echoes (version BC004) - Sentinel-3 - Reprocessed\n",
      "EO:EUM:DAT:0592 - OLCI Level 2 Ocean Colour Full Resolution (version BC002) - Sentinel-3 - Reprocessed\n",
      "EO:EUM:DAT:0407 - OLCI Level 2 Ocean Colour Full Resolution - Sentinel-3\n",
      "EO:EUM:DAT:0411 - SLSTR Level 1B Radiances and Brightness Temperatures - Sentinel-3\n",
      "EO:EUM:DAT:0417 - SLSTR Level 2 Fire Radiative Power - Sentinel 3\n",
      "EO:EUM:DAT:0080 - MVIRI Level 1.5 Climate Data Record Release 1 - MFG - 0 degree\n",
      "EO:EUM:DAT:METOP:SOMO12 - ASCAT Soil Moisture at 12.5 km Swath Grid in NRT - Metop\n",
      "EO:EUM:DAT:METOP:SOMO25 - ASCAT Soil Moisture at 25 km Swath Grid in NRT - Metop\n",
      "EO:EUM:DAT:METOP:AMSUL1 - AMSU-A Level 1B - Metop - Global\n",
      "EO:EUM:DAT:METOP:AVHRRL1 - AVHRR Level 1B - Metop - Global\n",
      "EO:EUM:DAT:0533 - GOME-2 Level 1B Fundamental Data Record Release 3 - Metop-A and -B\n",
      "EO:EUM:DAT:0240 - Poseidon-4 Altimetry Level 2 High Resolution (baseline version F06) - Sentinel-6 - Reprocessed\n",
      "EO:EUM:DAT:0577 - OLCI Level 1B Full Resolution (version BC002) - Sentinel-3 - Reprocessed\n",
      "EO:EUM:DAT:0578 - OLCI Level 1B Reduced Resolution (version BC002) - Sentinel-3 - Reprocessed\n",
      "EO:EUM:DAT:0582 - SLSTR Level 2 Sea Surface Temperature (SST) (version BC003) - Sentinel-3 - Reprocessed\n",
      "EO:EUM:DAT:0586 - SRAL Level 2 Altimetry Global (version BC004) - Sentinel-3 - Reprocessed\n",
      "EO:EUM:DAT:0593 - OLCI Level 2 Ocean Colour Reduced Resolution (version BC002) - Sentinel-3 - Reprocessed\n",
      "EO:EUM:DAT:0414 - SRAL Level 1B stack echoes - Sentinel-3\n"
     ]
    }
   ],
   "source": [
    "for collection in datastore.collections:\n",
    "    try:\n",
    "        print(f\"{collection} - {collection.title}\")\n",
    "    except:\n",
    "        pass"
   ],
   "metadata": {
    "collapsed": false,
    "ExecuteTime": {
     "end_time": "2023-07-06T10:16:27.450397700Z",
     "start_time": "2023-07-06T10:15:24.328013900Z"
    }
   }
  },
  {
   "cell_type": "code",
   "execution_count": 5,
   "outputs": [],
   "source": [
    "selected_collection = datastore.get_collection('EO:EUM:DAT:MSG:HRSEVIRI')"
   ],
   "metadata": {
    "collapsed": false,
    "ExecuteTime": {
     "end_time": "2023-07-06T10:16:27.479111500Z",
     "start_time": "2023-07-06T10:16:27.453121100Z"
    }
   }
  },
  {
   "cell_type": "code",
   "execution_count": 6,
   "outputs": [
    {
     "data": {
      "text/plain": "<IPython.core.display.HTML object>",
      "text/html": "<b>High Rate SEVIRI Level 1.5 Image Data - MSG - 0 degree</b>"
     },
     "metadata": {},
     "output_type": "display_data"
    },
    {
     "data": {
      "text/plain": "<IPython.core.display.HTML object>",
      "text/html": "<b>ID:</b> EO:EUM:DAT:MSG:HRSEVIRI"
     },
     "metadata": {},
     "output_type": "display_data"
    },
    {
     "data": {
      "text/plain": "<IPython.core.display.HTML object>",
      "text/html": "<b>Abstract:</b> Rectified (level 1.5) Meteosat SEVIRI image data. The data is transmitted as High Rate transmissions in 12 spectral channels. Level 1.5 image data corresponds to the geolocated and radiometrically pre-processed image data, ready for further processing, e.g. the extraction of meteorological products. Any spacecraft specific effects have been removed, and in particular, linearisation and equalisation of the image radiometry has been performed for all SEVIRI channels. The on-board blackbody data has been processed. Both radiometric and geometric quality control information is included. Images are made available with different timeliness according to their latency: quarter-hourly images if latency is more than 3 hours and hourly images if latency is less than 3 hours (for a total of 87 images per day). To enhance the perception for areas which are on the night side of the Earth a different mapping with increased contrast is applied for IR3.9 product. The greyscale mapping is based on the EBBT which allows to map the ranges 200 K to 300 K for the night and 250 K to 330 K for the day."
     },
     "metadata": {},
     "output_type": "display_data"
    }
   ],
   "source": [
    "from IPython.core.display import HTML\n",
    "display(HTML('<b>'+selected_collection.title+'</b>'))\n",
    "display(HTML('<b>ID:</b> '+str(selected_collection)))\n",
    "display(HTML('<b>Abstract:</b> '+selected_collection.abstract))"
   ],
   "metadata": {
    "collapsed": false,
    "ExecuteTime": {
     "end_time": "2023-07-06T10:16:28.129239200Z",
     "start_time": "2023-07-06T10:16:27.469176300Z"
    }
   }
  },
  {
   "cell_type": "code",
   "execution_count": 8,
   "outputs": [],
   "source": [
    "import datetime\n",
    "import shutil"
   ],
   "metadata": {
    "collapsed": false,
    "ExecuteTime": {
     "end_time": "2023-07-06T10:16:32.654948900Z",
     "start_time": "2023-07-06T10:16:32.628980400Z"
    }
   }
  },
  {
   "cell_type": "code",
   "execution_count": 9,
   "outputs": [
    {
     "name": "stdout",
     "output_type": "stream",
     "text": [
      "2023-04-19 12:15:00\n"
     ]
    }
   ],
   "source": [
    "start = datetime.datetime(2023, 4, 19, 12, 0)\n",
    "dt = datetime.timedelta(minutes=15)\n",
    "print(start+dt)"
   ],
   "metadata": {
    "collapsed": false,
    "ExecuteTime": {
     "end_time": "2023-07-06T10:16:33.945276200Z",
     "start_time": "2023-07-06T10:16:33.906356Z"
    }
   }
  },
  {
   "cell_type": "code",
   "execution_count": 12,
   "outputs": [
    {
     "name": "stdout",
     "output_type": "stream",
     "text": [
      "MSG3-SEVI-MSG15-0100-NA-20230530105742.065000000Z-NA\n"
     ]
    }
   ],
   "source": [
    "start = datetime.datetime(2023, 5, 30, 10, 45)\n",
    "dt = datetime.timedelta(minutes=15)\n",
    "\n",
    "# Retrieve datasets that match our filter\n",
    "products = selected_collection.search(\n",
    "    dtstart=start,\n",
    "    dtend=start+dt)\n",
    "\n",
    "for product in products:\n",
    "    print(str(product))"
   ],
   "metadata": {
    "collapsed": false,
    "ExecuteTime": {
     "end_time": "2023-07-06T10:16:59.808439900Z",
     "start_time": "2023-07-06T10:16:59.047822900Z"
    }
   }
  },
  {
   "cell_type": "code",
   "execution_count": 13,
   "outputs": [
    {
     "name": "stdout",
     "output_type": "stream",
     "text": [
      "Download of product MSG3-SEVI-MSG15-0100-NA-20230530105742.065000000Z-NA finished.\n",
      "All downloads are finished.\n"
     ]
    }
   ],
   "source": [
    "for product in products:\n",
    "    with product.open() as fsrc, \\\n",
    "            open(fsrc.name, mode='wb') as fdst:\n",
    "        shutil.copyfileobj(fsrc, fdst)\n",
    "        print(f'Download of product {product} finished.')\n",
    "print('All downloads are finished.')"
   ],
   "metadata": {
    "collapsed": false,
    "ExecuteTime": {
     "end_time": "2023-07-06T10:17:45.026139Z",
     "start_time": "2023-07-06T10:17:00.478927500Z"
    }
   }
  },
  {
   "cell_type": "code",
   "execution_count": null,
   "outputs": [],
   "source": [],
   "metadata": {
    "collapsed": false
   }
  }
 ],
 "metadata": {
  "kernelspec": {
   "display_name": "Python 3",
   "language": "python",
   "name": "python3"
  },
  "language_info": {
   "codemirror_mode": {
    "name": "ipython",
    "version": 2
   },
   "file_extension": ".py",
   "mimetype": "text/x-python",
   "name": "python",
   "nbconvert_exporter": "python",
   "pygments_lexer": "ipython2",
   "version": "2.7.6"
  }
 },
 "nbformat": 4,
 "nbformat_minor": 0
}
