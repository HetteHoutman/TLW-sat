{
 "cells": [
  {
   "cell_type": "code",
   "execution_count": 1,
   "metadata": {
    "collapsed": true,
    "ExecuteTime": {
     "end_time": "2023-07-18T10:15:46.114484300Z",
     "start_time": "2023-07-18T10:15:37.384910700Z"
    }
   },
   "outputs": [],
   "source": [
    "from satpy import Scene\n",
    "import sys\n",
    "import matplotlib.pyplot as plt\n",
    "import pyproj\n",
    "from pyresample import get_area_def"
   ]
  },
  {
   "cell_type": "code",
   "execution_count": 2,
   "outputs": [],
   "source": [
    "from satpy import available_readers"
   ],
   "metadata": {
    "collapsed": false,
    "ExecuteTime": {
     "end_time": "2023-07-18T10:16:41.763560700Z",
     "start_time": "2023-07-18T10:16:41.744622400Z"
    }
   }
  },
  {
   "cell_type": "code",
   "execution_count": 8,
   "outputs": [
    {
     "ename": "OSError",
     "evalue": "Unknown GRIB file format: data/MSG3-SEVI-MSGCLTH-0100-0100-20230419120000.000000000Z-20230419121431-4854768.grb",
     "output_type": "error",
     "traceback": [
      "\u001B[1;31m---------------------------------------------------------------------------\u001B[0m",
      "\u001B[1;31mRuntimeError\u001B[0m                              Traceback (most recent call last)",
      "File \u001B[1;32m~\\Documents\\miniconda3\\envs\\sattest\\lib\\site-packages\\satpy\\readers\\grib.py:61\u001B[0m, in \u001B[0;36mGRIBFileHandler.__init__\u001B[1;34m(self, filename, filename_info, filetype_info)\u001B[0m\n\u001B[0;32m     60\u001B[0m last_msg \u001B[38;5;241m=\u001B[39m grib_file\u001B[38;5;241m.\u001B[39mmessage(grib_file\u001B[38;5;241m.\u001B[39mmessages)\n\u001B[1;32m---> 61\u001B[0m start_time \u001B[38;5;241m=\u001B[39m \u001B[38;5;28;43mself\u001B[39;49m\u001B[38;5;241;43m.\u001B[39;49m\u001B[43m_convert_datetime\u001B[49m\u001B[43m(\u001B[49m\n\u001B[0;32m     62\u001B[0m \u001B[43m    \u001B[49m\u001B[43mfirst_msg\u001B[49m\u001B[43m,\u001B[49m\u001B[43m \u001B[49m\u001B[38;5;124;43m'\u001B[39;49m\u001B[38;5;124;43mvalidityDate\u001B[39;49m\u001B[38;5;124;43m'\u001B[39;49m\u001B[43m,\u001B[49m\u001B[43m \u001B[49m\u001B[38;5;124;43m'\u001B[39;49m\u001B[38;5;124;43mvalidityTime\u001B[39;49m\u001B[38;5;124;43m'\u001B[39;49m\u001B[43m)\u001B[49m\n\u001B[0;32m     63\u001B[0m end_time \u001B[38;5;241m=\u001B[39m \u001B[38;5;28mself\u001B[39m\u001B[38;5;241m.\u001B[39m_convert_datetime(\n\u001B[0;32m     64\u001B[0m     last_msg, \u001B[38;5;124m'\u001B[39m\u001B[38;5;124mvalidityDate\u001B[39m\u001B[38;5;124m'\u001B[39m, \u001B[38;5;124m'\u001B[39m\u001B[38;5;124mvalidityTime\u001B[39m\u001B[38;5;124m'\u001B[39m)\n",
      "File \u001B[1;32m~\\Documents\\miniconda3\\envs\\sattest\\lib\\site-packages\\satpy\\readers\\grib.py:106\u001B[0m, in \u001B[0;36mGRIBFileHandler._convert_datetime\u001B[1;34m(msg, date_key, time_key, date_format)\u001B[0m\n\u001B[0;32m    104\u001B[0m \u001B[38;5;129m@staticmethod\u001B[39m\n\u001B[0;32m    105\u001B[0m \u001B[38;5;28;01mdef\u001B[39;00m \u001B[38;5;21m_convert_datetime\u001B[39m(msg, date_key, time_key, date_format\u001B[38;5;241m=\u001B[39m\u001B[38;5;124m\"\u001B[39m\u001B[38;5;124m%\u001B[39m\u001B[38;5;124mY\u001B[39m\u001B[38;5;124m%\u001B[39m\u001B[38;5;124mm\u001B[39m\u001B[38;5;132;01m%d\u001B[39;00m\u001B[38;5;124m%\u001B[39m\u001B[38;5;124mH\u001B[39m\u001B[38;5;124m%\u001B[39m\u001B[38;5;124mM\u001B[39m\u001B[38;5;124m\"\u001B[39m):\n\u001B[1;32m--> 106\u001B[0m     date_str \u001B[38;5;241m=\u001B[39m \u001B[38;5;124m\"\u001B[39m\u001B[38;5;132;01m{:d}\u001B[39;00m\u001B[38;5;132;01m{:04d}\u001B[39;00m\u001B[38;5;124m\"\u001B[39m\u001B[38;5;241m.\u001B[39mformat(\u001B[43mmsg\u001B[49m\u001B[43m[\u001B[49m\u001B[43mdate_key\u001B[49m\u001B[43m]\u001B[49m, msg[time_key])\n\u001B[0;32m    107\u001B[0m     \u001B[38;5;28;01mreturn\u001B[39;00m datetime\u001B[38;5;241m.\u001B[39mstrptime(date_str, date_format)\n",
      "File \u001B[1;32msrc\\pygrib\\_pygrib.pyx:1127\u001B[0m, in \u001B[0;36mpygrib._pygrib.gribmessage.__getitem__\u001B[1;34m()\u001B[0m\n",
      "\u001B[1;31mRuntimeError\u001B[0m: b'Key/value not found'",
      "\nDuring handling of the above exception, another exception occurred:\n",
      "\u001B[1;31mOSError\u001B[0m                                   Traceback (most recent call last)",
      "Cell \u001B[1;32mIn[8], line 1\u001B[0m\n\u001B[1;32m----> 1\u001B[0m global_scene \u001B[38;5;241m=\u001B[39m \u001B[43mScene\u001B[49m\u001B[43m(\u001B[49m\u001B[43mreader\u001B[49m\u001B[38;5;241;43m=\u001B[39;49m\u001B[38;5;124;43m'\u001B[39;49m\u001B[38;5;124;43mgrib\u001B[39;49m\u001B[38;5;124;43m'\u001B[39;49m\u001B[43m,\u001B[49m\u001B[43m \u001B[49m\u001B[43mfilenames\u001B[49m\u001B[38;5;241;43m=\u001B[39;49m\u001B[43m[\u001B[49m\u001B[38;5;124;43mr\u001B[39;49m\u001B[38;5;124;43m'\u001B[39;49m\u001B[38;5;124;43mdata/MSG3-SEVI-MSGCLTH-0100-0100-20230419120000.000000000Z-20230419121431-4854768.grb\u001B[39;49m\u001B[38;5;124;43m'\u001B[39;49m\u001B[43m]\u001B[49m\u001B[43m)\u001B[49m\n",
      "File \u001B[1;32m~\\Documents\\miniconda3\\envs\\sattest\\lib\\site-packages\\satpy\\scene.py:133\u001B[0m, in \u001B[0;36mScene.__init__\u001B[1;34m(self, filenames, reader, filter_parameters, reader_kwargs)\u001B[0m\n\u001B[0;32m    130\u001B[0m \u001B[38;5;28;01mif\u001B[39;00m filenames:\n\u001B[0;32m    131\u001B[0m     filenames \u001B[38;5;241m=\u001B[39m convert_remote_files_to_fsspec(filenames, storage_options)\n\u001B[1;32m--> 133\u001B[0m \u001B[38;5;28mself\u001B[39m\u001B[38;5;241m.\u001B[39m_readers \u001B[38;5;241m=\u001B[39m \u001B[38;5;28;43mself\u001B[39;49m\u001B[38;5;241;43m.\u001B[39;49m\u001B[43m_create_reader_instances\u001B[49m\u001B[43m(\u001B[49m\u001B[43mfilenames\u001B[49m\u001B[38;5;241;43m=\u001B[39;49m\u001B[43mfilenames\u001B[49m\u001B[43m,\u001B[49m\n\u001B[0;32m    134\u001B[0m \u001B[43m                                              \u001B[49m\u001B[43mreader\u001B[49m\u001B[38;5;241;43m=\u001B[39;49m\u001B[43mreader\u001B[49m\u001B[43m,\u001B[49m\n\u001B[0;32m    135\u001B[0m \u001B[43m                                              \u001B[49m\u001B[43mreader_kwargs\u001B[49m\u001B[38;5;241;43m=\u001B[39;49m\u001B[43mcleaned_reader_kwargs\u001B[49m\u001B[43m)\u001B[49m\n\u001B[0;32m    136\u001B[0m \u001B[38;5;28mself\u001B[39m\u001B[38;5;241m.\u001B[39m_datasets \u001B[38;5;241m=\u001B[39m DatasetDict()\n\u001B[0;32m    137\u001B[0m \u001B[38;5;28mself\u001B[39m\u001B[38;5;241m.\u001B[39m_wishlist \u001B[38;5;241m=\u001B[39m \u001B[38;5;28mset\u001B[39m()\n",
      "File \u001B[1;32m~\\Documents\\miniconda3\\envs\\sattest\\lib\\site-packages\\satpy\\scene.py:154\u001B[0m, in \u001B[0;36mScene._create_reader_instances\u001B[1;34m(self, filenames, reader, reader_kwargs)\u001B[0m\n\u001B[0;32m    149\u001B[0m \u001B[38;5;28;01mdef\u001B[39;00m \u001B[38;5;21m_create_reader_instances\u001B[39m(\u001B[38;5;28mself\u001B[39m,\n\u001B[0;32m    150\u001B[0m                              filenames\u001B[38;5;241m=\u001B[39m\u001B[38;5;28;01mNone\u001B[39;00m,\n\u001B[0;32m    151\u001B[0m                              reader\u001B[38;5;241m=\u001B[39m\u001B[38;5;28;01mNone\u001B[39;00m,\n\u001B[0;32m    152\u001B[0m                              reader_kwargs\u001B[38;5;241m=\u001B[39m\u001B[38;5;28;01mNone\u001B[39;00m):\n\u001B[0;32m    153\u001B[0m \u001B[38;5;250m    \u001B[39m\u001B[38;5;124;03m\"\"\"Find readers and return their instances.\"\"\"\u001B[39;00m\n\u001B[1;32m--> 154\u001B[0m     \u001B[38;5;28;01mreturn\u001B[39;00m \u001B[43mload_readers\u001B[49m\u001B[43m(\u001B[49m\u001B[43mfilenames\u001B[49m\u001B[38;5;241;43m=\u001B[39;49m\u001B[43mfilenames\u001B[49m\u001B[43m,\u001B[49m\n\u001B[0;32m    155\u001B[0m \u001B[43m                        \u001B[49m\u001B[43mreader\u001B[49m\u001B[38;5;241;43m=\u001B[39;49m\u001B[43mreader\u001B[49m\u001B[43m,\u001B[49m\n\u001B[0;32m    156\u001B[0m \u001B[43m                        \u001B[49m\u001B[43mreader_kwargs\u001B[49m\u001B[38;5;241;43m=\u001B[39;49m\u001B[43mreader_kwargs\u001B[49m\u001B[43m)\u001B[49m\n",
      "File \u001B[1;32m~\\Documents\\miniconda3\\envs\\sattest\\lib\\site-packages\\satpy\\readers\\__init__.py:575\u001B[0m, in \u001B[0;36mload_readers\u001B[1;34m(filenames, reader, reader_kwargs)\u001B[0m\n\u001B[0;32m    573\u001B[0m loadables \u001B[38;5;241m=\u001B[39m reader_instance\u001B[38;5;241m.\u001B[39mselect_files_from_pathnames(readers_files)\n\u001B[0;32m    574\u001B[0m \u001B[38;5;28;01mif\u001B[39;00m loadables:\n\u001B[1;32m--> 575\u001B[0m     \u001B[43mreader_instance\u001B[49m\u001B[38;5;241;43m.\u001B[39;49m\u001B[43mcreate_filehandlers\u001B[49m\u001B[43m(\u001B[49m\n\u001B[0;32m    576\u001B[0m \u001B[43m            \u001B[49m\u001B[43mloadables\u001B[49m\u001B[43m,\u001B[49m\n\u001B[0;32m    577\u001B[0m \u001B[43m            \u001B[49m\u001B[43mfh_kwargs\u001B[49m\u001B[38;5;241;43m=\u001B[39;49m\u001B[43mreader_kwargs_without_filter\u001B[49m\u001B[43m[\u001B[49m\u001B[38;5;28;43;01mNone\u001B[39;49;00m\u001B[43m \u001B[49m\u001B[38;5;28;43;01mif\u001B[39;49;00m\u001B[43m \u001B[49m\u001B[43mreader\u001B[49m\u001B[43m \u001B[49m\u001B[38;5;129;43;01mis\u001B[39;49;00m\u001B[43m \u001B[49m\u001B[38;5;28;43;01mNone\u001B[39;49;00m\u001B[43m \u001B[49m\u001B[38;5;28;43;01melse\u001B[39;49;00m\u001B[43m \u001B[49m\u001B[43mreader\u001B[49m\u001B[43m[\u001B[49m\u001B[43midx\u001B[49m\u001B[43m]\u001B[49m\u001B[43m]\u001B[49m\u001B[43m)\u001B[49m\n\u001B[0;32m    578\u001B[0m     reader_instances[reader_instance\u001B[38;5;241m.\u001B[39mname] \u001B[38;5;241m=\u001B[39m reader_instance\n\u001B[0;32m    579\u001B[0m     remaining_filenames \u001B[38;5;241m-\u001B[39m\u001B[38;5;241m=\u001B[39m \u001B[38;5;28mset\u001B[39m(loadables)\n",
      "File \u001B[1;32m~\\Documents\\miniconda3\\envs\\sattest\\lib\\site-packages\\satpy\\readers\\yaml_reader.py:616\u001B[0m, in \u001B[0;36mFileYAMLReader.create_filehandlers\u001B[1;34m(self, filenames, fh_kwargs)\u001B[0m\n\u001B[0;32m    614\u001B[0m \u001B[38;5;66;03m# load files that we know about by creating the file handlers\u001B[39;00m\n\u001B[0;32m    615\u001B[0m \u001B[38;5;28;01mfor\u001B[39;00m filetype, filetype_info \u001B[38;5;129;01min\u001B[39;00m \u001B[38;5;28mself\u001B[39m\u001B[38;5;241m.\u001B[39msorted_filetype_items():\n\u001B[1;32m--> 616\u001B[0m     filehandlers \u001B[38;5;241m=\u001B[39m \u001B[38;5;28;43mself\u001B[39;49m\u001B[38;5;241;43m.\u001B[39;49m\u001B[43m_new_filehandlers_for_filetype\u001B[49m\u001B[43m(\u001B[49m\u001B[43mfiletype_info\u001B[49m\u001B[43m,\u001B[49m\n\u001B[0;32m    617\u001B[0m \u001B[43m                                                       \u001B[49m\u001B[43mfilename_set\u001B[49m\u001B[43m,\u001B[49m\n\u001B[0;32m    618\u001B[0m \u001B[43m                                                       \u001B[49m\u001B[43mfh_kwargs\u001B[49m\u001B[38;5;241;43m=\u001B[39;49m\u001B[43mfh_kwargs\u001B[49m\u001B[43m)\u001B[49m\n\u001B[0;32m    620\u001B[0m     \u001B[38;5;28;01mif\u001B[39;00m filehandlers:\n\u001B[0;32m    621\u001B[0m         created_fhs[filetype] \u001B[38;5;241m=\u001B[39m filehandlers\n",
      "File \u001B[1;32m~\\Documents\\miniconda3\\envs\\sattest\\lib\\site-packages\\satpy\\readers\\yaml_reader.py:604\u001B[0m, in \u001B[0;36mFileYAMLReader._new_filehandlers_for_filetype\u001B[1;34m(self, filetype_info, filenames, fh_kwargs)\u001B[0m\n\u001B[0;32m    600\u001B[0m filehandler_iter \u001B[38;5;241m=\u001B[39m \u001B[38;5;28mself\u001B[39m\u001B[38;5;241m.\u001B[39m_new_filehandler_instances(filetype_info,\n\u001B[0;32m    601\u001B[0m                                                    filename_iter,\n\u001B[0;32m    602\u001B[0m                                                    fh_kwargs\u001B[38;5;241m=\u001B[39mfh_kwargs)\n\u001B[0;32m    603\u001B[0m filtered_iter \u001B[38;5;241m=\u001B[39m \u001B[38;5;28mself\u001B[39m\u001B[38;5;241m.\u001B[39mfilter_fh_by_metadata(filehandler_iter)\n\u001B[1;32m--> 604\u001B[0m \u001B[38;5;28;01mreturn\u001B[39;00m \u001B[38;5;28;43mlist\u001B[39;49m\u001B[43m(\u001B[49m\u001B[43mfiltered_iter\u001B[49m\u001B[43m)\u001B[49m\n",
      "File \u001B[1;32m~\\Documents\\miniconda3\\envs\\sattest\\lib\\site-packages\\satpy\\readers\\yaml_reader.py:572\u001B[0m, in \u001B[0;36mFileYAMLReader.filter_fh_by_metadata\u001B[1;34m(self, filehandlers)\u001B[0m\n\u001B[0;32m    570\u001B[0m \u001B[38;5;28;01mdef\u001B[39;00m \u001B[38;5;21mfilter_fh_by_metadata\u001B[39m(\u001B[38;5;28mself\u001B[39m, filehandlers):\n\u001B[0;32m    571\u001B[0m \u001B[38;5;250m    \u001B[39m\u001B[38;5;124;03m\"\"\"Filter out filehandlers using provide filter parameters.\"\"\"\u001B[39;00m\n\u001B[1;32m--> 572\u001B[0m     \u001B[38;5;28;01mfor\u001B[39;00m filehandler \u001B[38;5;129;01min\u001B[39;00m filehandlers:\n\u001B[0;32m    573\u001B[0m         filehandler\u001B[38;5;241m.\u001B[39mmetadata[\u001B[38;5;124m'\u001B[39m\u001B[38;5;124mstart_time\u001B[39m\u001B[38;5;124m'\u001B[39m] \u001B[38;5;241m=\u001B[39m filehandler\u001B[38;5;241m.\u001B[39mstart_time\n\u001B[0;32m    574\u001B[0m         filehandler\u001B[38;5;241m.\u001B[39mmetadata[\u001B[38;5;124m'\u001B[39m\u001B[38;5;124mend_time\u001B[39m\u001B[38;5;124m'\u001B[39m] \u001B[38;5;241m=\u001B[39m filehandler\u001B[38;5;241m.\u001B[39mend_time\n",
      "File \u001B[1;32m~\\Documents\\miniconda3\\envs\\sattest\\lib\\site-packages\\satpy\\readers\\yaml_reader.py:513\u001B[0m, in \u001B[0;36mFileYAMLReader._new_filehandler_instances\u001B[1;34m(self, filetype_info, filename_items, fh_kwargs)\u001B[0m\n\u001B[0;32m    510\u001B[0m     warnings\u001B[38;5;241m.\u001B[39mwarn(\u001B[38;5;28mstr\u001B[39m(err) \u001B[38;5;241m+\u001B[39m \u001B[38;5;124m'\u001B[39m\u001B[38;5;124m for \u001B[39m\u001B[38;5;132;01m{}\u001B[39;00m\u001B[38;5;124m'\u001B[39m\u001B[38;5;241m.\u001B[39mformat(filename), stacklevel\u001B[38;5;241m=\u001B[39m\u001B[38;5;241m4\u001B[39m)\n\u001B[0;32m    511\u001B[0m     \u001B[38;5;28;01mcontinue\u001B[39;00m\n\u001B[1;32m--> 513\u001B[0m \u001B[38;5;28;01myield\u001B[39;00m filetype_cls(filename, filename_info, filetype_info, \u001B[38;5;241m*\u001B[39mreq_fh, \u001B[38;5;241m*\u001B[39m\u001B[38;5;241m*\u001B[39mfh_kwargs)\n",
      "File \u001B[1;32m~\\Documents\\miniconda3\\envs\\sattest\\lib\\site-packages\\satpy\\readers\\grib.py:75\u001B[0m, in \u001B[0;36mGRIBFileHandler.__init__\u001B[1;34m(self, filename, filename_info, filetype_info)\u001B[0m\n\u001B[0;32m     72\u001B[0m             \u001B[38;5;28mself\u001B[39m\u001B[38;5;241m.\u001B[39m_idx \u001B[38;5;241m=\u001B[39m pygrib\u001B[38;5;241m.\u001B[39mindex(\u001B[38;5;28mself\u001B[39m\u001B[38;5;241m.\u001B[39mfilename,\n\u001B[0;32m     73\u001B[0m                                      \u001B[38;5;241m*\u001B[39mfiletype_info[\u001B[38;5;124m'\u001B[39m\u001B[38;5;124mkeys\u001B[39m\u001B[38;5;124m'\u001B[39m]\u001B[38;5;241m.\u001B[39mkeys())\n\u001B[0;32m     74\u001B[0m \u001B[38;5;28;01mexcept\u001B[39;00m (\u001B[38;5;167;01mRuntimeError\u001B[39;00m, \u001B[38;5;167;01mKeyError\u001B[39;00m):\n\u001B[1;32m---> 75\u001B[0m     \u001B[38;5;28;01mraise\u001B[39;00m \u001B[38;5;167;01mIOError\u001B[39;00m(\u001B[38;5;124m\"\u001B[39m\u001B[38;5;124mUnknown GRIB file format: \u001B[39m\u001B[38;5;132;01m{}\u001B[39;00m\u001B[38;5;124m\"\u001B[39m\u001B[38;5;241m.\u001B[39mformat(\u001B[38;5;28mself\u001B[39m\u001B[38;5;241m.\u001B[39mfilename))\n",
      "\u001B[1;31mOSError\u001B[0m: Unknown GRIB file format: data/MSG3-SEVI-MSGCLTH-0100-0100-20230419120000.000000000Z-20230419121431-4854768.grb"
     ]
    }
   ],
   "source": [
    "global_scene = Scene(reader='grib', filenames=[r'data/MSG3-SEVI-MSGCLTH-0100-0100-20230419120000.000000000Z-20230419121431-4854768.grb'])"
   ],
   "metadata": {
    "collapsed": false,
    "ExecuteTime": {
     "end_time": "2023-07-18T10:20:08.113643Z",
     "start_time": "2023-07-18T10:20:07.925678500Z"
    }
   }
  },
  {
   "cell_type": "code",
   "execution_count": 9,
   "outputs": [],
   "source": [
    "import pygrib"
   ],
   "metadata": {
    "collapsed": false,
    "ExecuteTime": {
     "end_time": "2023-07-18T10:25:01.662942100Z",
     "start_time": "2023-07-18T10:25:01.643038300Z"
    }
   }
  },
  {
   "cell_type": "code",
   "execution_count": 11,
   "outputs": [],
   "source": [
    "grib_file = pygrib.open(r'C:\\Users\\sw825517\\OneDrive - University of Reading\\research\\code\\eumetsat\\data\\MSG3-SEVI-MSGCLTH-0100-0100-20230419120000.000000000Z-20230419121431-4854768.grb')"
   ],
   "metadata": {
    "collapsed": false,
    "ExecuteTime": {
     "end_time": "2023-07-18T11:28:20.984733400Z",
     "start_time": "2023-07-18T11:28:20.962996800Z"
    }
   }
  },
  {
   "cell_type": "code",
   "execution_count": 12,
   "outputs": [],
   "source": [
    "first_msg = grib_file.message(1)\n",
    "last_msg = grib_file.message(grib_file.messages)\n",
    "# start_time = self._convert_datetime(\n",
    "#     first_msg, 'validityDate', 'validityTime')\n",
    "# end_time = self._convert_datetime(\n",
    "#     last_msg, 'validityDate', 'validityTime')\n",
    "# self._start_time = start_time\n",
    "# self._end_time = end_time\n",
    "# if 'keys' not in filetype_info:\n",
    "#     self._analyze_messages(grib_file)\n",
    "#     self._idx = None\n",
    "# else:\n",
    "#     self._create_dataset_ids(filetype_info['keys'])\n",
    "#     self._idx = pygrib.index(self.filename, *filetype_info['keys'].keys())"
   ],
   "metadata": {
    "collapsed": false,
    "ExecuteTime": {
     "end_time": "2023-07-18T11:29:30.543683Z",
     "start_time": "2023-07-18T11:29:30.536127100Z"
    }
   }
  },
  {
   "cell_type": "code",
   "execution_count": null,
   "outputs": [],
   "source": [],
   "metadata": {
    "collapsed": false
   }
  }
 ],
 "metadata": {
  "kernelspec": {
   "display_name": "Python 3",
   "language": "python",
   "name": "python3"
  },
  "language_info": {
   "codemirror_mode": {
    "name": "ipython",
    "version": 2
   },
   "file_extension": ".py",
   "mimetype": "text/x-python",
   "name": "python",
   "nbconvert_exporter": "python",
   "pygments_lexer": "ipython2",
   "version": "2.7.6"
  }
 },
 "nbformat": 4,
 "nbformat_minor": 0
}
